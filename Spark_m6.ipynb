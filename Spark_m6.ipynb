{
 "cells": [
  {
   "cell_type": "markdown",
   "metadata": {
    "deletable": false,
    "editable": false,
    "nbgrader": {
     "cell_type": "markdown",
     "checksum": "3d01e43162b64c90ce0048e8a23f3b1b",
     "grade": false,
     "grade_id": "cell-f8987996be9f1238",
     "locked": true,
     "schema_version": 3,
     "solution": false,
     "task": false
    }
   },
   "source": [
    "# Accidentes de tráfico en Reino Unido entre 2010 y 2014 \n",
    "\n",
    "### Disponible en Kaggle en:\n",
    "https://www.kaggle.com/stefanoleone992/adm-project-road-accidents-in-uk"
   ]
  },
  {
   "cell_type": "markdown",
   "metadata": {
    "deletable": false,
    "editable": false,
    "nbgrader": {
     "cell_type": "markdown",
     "checksum": "9a6b4dc108ddf890c659e33701965428",
     "grade": false,
     "grade_id": "cell-f74d7bfd01811789",
     "locked": true,
     "schema_version": 3,
     "solution": false,
     "task": false
    }
   },
   "source": [
    "### Variables y significado"
   ]
  },
  {
   "cell_type": "markdown",
   "metadata": {
    "deletable": false,
    "editable": false,
    "nbgrader": {
     "cell_type": "markdown",
     "checksum": "4a5a5882319ae0a14393c8d534816a56",
     "grade": false,
     "grade_id": "cell-9cfb34982bd4eb04",
     "locked": true,
     "schema_version": 3,
     "solution": false,
     "task": false
    }
   },
   "source": [
    "* Accident_Index: Accident index\n",
    "* Latitude: Accident latitude\n",
    "* Longitude: Accident longitude\n",
    "* Region: Accident region\n",
    "* Urban_or_Rural_Area: Accident area (rural or urban)\n",
    "* X1st_Road_Class: Accident road class\n",
    "* Driver_IMD_Decile: Road IMD Decile\n",
    "* Speed_limit: Road speed limit\n",
    "* Road_Type: Road type\n",
    "* Road_Surface_Conditions: Road surface condition\n",
    "* Weather: Weather\n",
    "* High_Wind: High wind\n",
    "* Lights: Road lights\n",
    "* Datetime: Accident datetime\n",
    "* Year: Accident year\n",
    "* Season: Accident season\n",
    "* Month_of_Year: Accident month\n",
    "* Day_of_Month: Accident day of month\n",
    "* Day_of_Week: Accident day of week\n",
    "* Hour_of_Day: Accident hour of day\n",
    "* Number_of_Vehicles: Accident number of vehicles\n",
    "* Age_of_Driver: Driver age\n",
    "* Age_of_Vehicle: Vehicle age\n",
    "* Junction_Detail: Accident junction detail\n",
    "* Junction_Location: Accident junction location\n",
    "* X1st_Point_of_Impact: Vehicle first point of impact\n",
    "* Driver_Journey_Purpose: Driver journey purpose\n",
    "* Engine_CC: Vehicle engine power (in CC)\n",
    "* Propulsion_Code: Vehicle propulsion code\n",
    "* Vehicle_Make: Vehicle brand\n",
    "* Vehicle_Category: Vehicle brand category\n",
    "* Vehicle_Manoeuvre: Vehicle manoeuvre when accident happened\n",
    "* Accident_Severity: Accident severity"
   ]
  },
  {
   "cell_type": "markdown",
   "metadata": {},
   "source": [
    "**Nombre completo del alumno:**  "
   ]
  },
  {
   "cell_type": "markdown",
   "metadata": {
    "deletable": false,
    "editable": false,
    "nbgrader": {
     "cell_type": "markdown",
     "checksum": "adf0d762edf43c8674e5bbc71e788601",
     "grade": false,
     "grade_id": "cell-b4f9c37a2b92d2e6",
     "locked": true,
     "schema_version": 3,
     "solution": false,
     "task": false
    }
   },
   "source": [
    "# INSTRUCCIONES \n",
    "\n",
    "En cada celda debes responder a la pregunta formulada, asegurándote de que el resultado queda guardado en la(s) variable(s) que por defecto vienen inicializadas a `None`. No se necesita usar variables intermedias, pero puedes hacerlo siempre que el resultado final del cálculo quede guardado exactamente en la variable que venía inicializada a None (debes reemplazar None por la secuencia de transformaciones necesarias, pero nunca cambiar el nombre de esa variable). \n",
    "\n",
    "**No olvides borrar la línea *raise NotImplementedError()* de cada celda cuando hayas completado la solución de esa celda y quieras probarla**.\n",
    "\n",
    "Después de cada celda evaluable verás una celda con código. Ejecútala (no modifiques su código) y te dirá si tu solución es correcta o no. Además de esas pruebas, se realizarán algunas más (ocultas) a la hora de puntuar el ejercicio, pero evaluar dicha celda es un indicador bastante fiable acerca de si realmente has implementado la solución correcta o no. Asegúrate de que, al menos, todas las celdas indican que el código es correcto antes de enviar el notebook terminado.\n",
    "\n",
    "**Nunca se debe redondear ninguna cantidad si no lo pide explícitamente el enunciado**\n",
    "\n",
    "### Cada solución debe escribirse obligatoriamente en la celda habilitada para ello. Cualquier celda adicional que se haya creado durante el desarrollo deberá ser eliminada.\n",
    "\n",
    "Si necesitas crear celdas auxiliares durante el desarrollo, puedes hacerlo pero debes asegurarte de borrarlas antes de entregar el notebook."
   ]
  },
  {
   "cell_type": "markdown",
   "metadata": {
    "deletable": false,
    "editable": false,
    "nbgrader": {
     "cell_type": "markdown",
     "checksum": "e7764e6064699f591cd2896d2430528e",
     "grade": false,
     "grade_id": "cell-69ec0993eeaff3ac",
     "locked": true,
     "schema_version": 3,
     "solution": false,
     "task": false
    }
   },
   "source": [
    "### Sobre el dataset anterior (accidents_uk.csv) se pide:"
   ]
  },
  {
   "cell_type": "markdown",
   "metadata": {},
   "source": [
    "**Ejercicio 1 (1.5 puntos)** \n",
    "* Leerlo tratando de que Spark infiera el tipo de dato de cada columna.\n",
    "* Crear una columna llamada `Age_Category` renombrando los valores de la columna `Age_of_Driver` donde los valores 1 y 2 de la columna original sean etiquetados en la columna nueva como \"Adolescente\", los valores 3 y 4 como \"Joven\", los valores 5 y 6 como \"Adulto\", y los valores 7 y 8 como \"Anciano\".\n",
    "* Crear una columna llamada `hora` aplicando la función `F.hour` a la columna `\"Datetime\"` ya existente.\n",
    "* El resultado debe guardarse **cacheado** en la variable `accidentesDF`."
   ]
  },
  {
   "cell_type": "code",
   "execution_count": 28,
   "metadata": {
    "deletable": false,
    "nbgrader": {
     "cell_type": "code",
     "checksum": "494ea1492132b3a5e88d7b7b5ea9c9ce",
     "grade": false,
     "grade_id": "read_csv",
     "locked": false,
     "schema_version": 3,
     "solution": true,
     "task": false
    }
   },
   "outputs": [
    {
     "name": "stderr",
     "output_type": "stream",
     "text": [
      "24/06/09 19:25:00 WARN SparkSession: Using an existing Spark session; only runtime SQL configurations will take effect.\n"
     ]
    },
    {
     "data": {
      "text/plain": [
       "DataFrame[Accident_Index: string, Latitude: double, Longitude: double, Region: string, Urban_or_Rural_Area: string, X1st_Road_Class: string, Driver_IMD_Decile: int, Speed_limit: int, Road_Type: string, Road_Surface_Conditions: string, Weather: string, High_Wind: string, Lights: string, Datetime: timestamp, Year: int, Season: int, Month_of_Year: int, Day_of_Month: int, Day_of_Week: int, Hour_of_Day: double, Number_of_Vehicles: int, Age_of_Driver: int, Age_of_Vehicle: int, Junction_Detail: string, Junction_Location: string, X1st_Point_of_Impact: string, Driver_Journey_Purpose: string, Engine_CC: int, Propulsion_Code: string, Vehicle_Make: string, Vehicle_Category: string, Vehicle_Manoeuvre: string, Accident_Severity: string, Age_Category: string, hora: int]"
      ]
     },
     "execution_count": 28,
     "metadata": {},
     "output_type": "execute_result"
    }
   ],
   "source": [
    "\n",
    "\n",
    "\n",
    "\n",
    "from pyspark.sql import SparkSession\n",
    "from pyspark.sql.functions import col, when, hour\n",
    "from pyspark.sql.types import *\n",
    "\n",
    "# Creamos la sesión de Spark\n",
    "spark = SparkSession.builder.appName(\"Accidentes\").getOrCreate()\n",
    "\n",
    "# Leer el archivo CSV\n",
    "file_path = \"/Users/kscortesp/Dropbox/Documentos/Estudios/Master IA/Hadoop:Spark/accidents_uk.csv\"  # Asegúrate de que la ruta es correcta\n",
    "df = spark.read.csv(file_path, header=True, inferSchema=True)\n",
    "\n",
    "# Crear la columna Age_Category\n",
    "df = df.withColumn(\"Age_Category\",\n",
    "                                       when(col(\"Age_of_Driver\").isin([1, 2]), \"Adolescente\") \\\n",
    "                                       .when(col(\"Age_of_Driver\").isin([3, 4]), \"Joven\") \\\n",
    "                                       .when(col(\"Age_of_Driver\").isin([5, 6]), \"Adulto\") \\\n",
    "                                       .when(col(\"Age_of_Driver\").isin([7, 8]), \"Anciano\") \\\n",
    "                                       .otherwise(\"Unknown\"))\n",
    "\n",
    "# Creamos la columna hora\n",
    "accidentesDF = df.withColumn(\"hora\", hour(col(\"Datetime\")))\n",
    "\n",
    "# Cacheamos el DataFrame\n",
    "accidentesDF.cache()\n"
   ]
  },
  {
   "cell_type": "code",
   "execution_count": 29,
   "metadata": {
    "deletable": false,
    "editable": false,
    "nbgrader": {
     "cell_type": "code",
     "checksum": "214402d3a6c78ca57ae876cb84f7e722",
     "grade": true,
     "grade_id": "read_csv_test",
     "locked": true,
     "points": 1.5,
     "schema_version": 3,
     "solution": false,
     "task": false
    }
   },
   "outputs": [
    {
     "name": "stderr",
     "output_type": "stream",
     "text": [
      "                                                                                \r"
     ]
    }
   ],
   "source": [
    "from pyspark.sql.types import DoubleType\n",
    "assert(accidentesDF.schema[1].dataType == DoubleType())\n",
    "assert(accidentesDF.count() == 251832)\n",
    "\n",
    "assert(dict(accidentesDF.dtypes)[\"Age_Category\"] == \"string\")\n",
    "collectedDF = accidentesDF.groupBy(\"Age_Category\").count().orderBy(\"count\").collect()\n",
    "assert((collectedDF[0][\"count\"] == 22533) & (collectedDF[0][\"Age_Category\"] == \"Anciano\"))\n",
    "assert((collectedDF[1][\"count\"] == 57174) & (collectedDF[1][\"Age_Category\"] == \"Adolescente\"))\n",
    "assert((collectedDF[2][\"count\"] == 67138) & (collectedDF[2][\"Age_Category\"] == \"Adulto\"))\n",
    "assert((collectedDF[3][\"count\"] == 104987) & (collectedDF[3][\"Age_Category\"] == \"Joven\"))\n"
   ]
  },
  {
   "cell_type": "markdown",
   "metadata": {
    "deletable": false,
    "editable": false,
    "nbgrader": {
     "cell_type": "markdown",
     "checksum": "3ea5104d104e3d22b6d9d8a1eba3b7b7",
     "grade": false,
     "grade_id": "cell-b90f5b934eda250e",
     "locked": true,
     "schema_version": 3,
     "solution": false,
     "task": false
    }
   },
   "source": [
    "**Ejercicio 2 (3 puntos)** \n",
    "\n",
    "Partiendo de `accidentesDF`, queremos pegar (**sin hacer JOIN sino usando agregaciones sobre ventanas**) a cada accidente la siguiente información:\n",
    "* Número de accidentes que ha habido *en ese mismo año con esa misma categoría de vehículo*, en una nueva columna `total_vehiculo_anio`.\n",
    "* Número de accidentes que ha habido *en ese mismo año con esa misma categoría de vehículo y con esa misma situación (Junction Location)*, en una nueva columna `total_vehiculo_causa_anio`.\n",
    "* Porcentaje (en tanto por uno) que supone el segundo dato sobre el primero, en la columna `porc_vehiculo_causa_anio`. Esta columna la podrás calcular tras haber calculado las dos anteriores, sin necesidad de utilizar ninguna ventana.\n",
    "* Edad promedio de los accidentados *en ese mismo año con esa misma categoría de vehículo*, en una nueva columna `media_edad_vehiculo_anio`.\n",
    "* Edad promedio de los accidentados *en ese mismo año con esa misma categoría de vehículo y con esa misma situación (Junction_Location)*, en una nueva columna `media_edad_vehiculo_causa_anio`.\n",
    "* Desviación típica (función `F.stddev`) del dato anterior *en ese mismo año con ese mismo tipo de vehículo y con esa misma situación (Junction_Location)*, en una nuea columna `stddev_edad_vehiculo_causa_anio`.\n",
    "* Guardar el DF resultante en una nueva variable llamada `accidentes_info_agregadaDF`.\n",
    "\n",
    "PISTA: crear en las variables `ventana_vehiculo_anio` y `ventana_vehiculo_causa_anio` dos ventanas diferentes que definan los dos grupos distintos que intervienen en los cálculos anteriores (una de ellos con dos criterios y la otra con tres).\n",
    "\n",
    "**Revisa el diccionario de variables y su significado para saber qué columnas debes utilizar**."
   ]
  },
  {
   "cell_type": "code",
   "execution_count": 30,
   "metadata": {
    "deletable": false,
    "nbgrader": {
     "cell_type": "code",
     "checksum": "2b7e75daf483336d265c2afeeb3b343c",
     "grade": false,
     "grade_id": "windows",
     "locked": false,
     "schema_version": 3,
     "solution": true,
     "task": false
    }
   },
   "outputs": [
    {
     "data": {
      "text/plain": [
       "DataFrame[Accident_Index: string, Latitude: double, Longitude: double, Region: string, Urban_or_Rural_Area: string, X1st_Road_Class: string, Driver_IMD_Decile: int, Speed_limit: int, Road_Type: string, Road_Surface_Conditions: string, Weather: string, High_Wind: string, Lights: string, Datetime: timestamp, Year: int, Season: int, Month_of_Year: int, Day_of_Month: int, Day_of_Week: int, Hour_of_Day: double, Number_of_Vehicles: int, Age_of_Driver: int, Age_of_Vehicle: int, Junction_Detail: string, Junction_Location: string, X1st_Point_of_Impact: string, Driver_Journey_Purpose: string, Engine_CC: int, Propulsion_Code: string, Vehicle_Make: string, Vehicle_Category: string, Vehicle_Manoeuvre: string, Accident_Severity: string, Age_Category: string, hora: int, total_vehiculo_anio: bigint, total_vehiculo_causa_anio: bigint, porc_vehiculo_causa_anio: double, media_edad_vehiculo_anio: double, media_edad_vehiculo_causa_anio: double, stddev_edad_vehiculo_causa_anio: double]"
      ]
     },
     "execution_count": 30,
     "metadata": {},
     "output_type": "execute_result"
    }
   ],
   "source": [
    "from pyspark.sql.window import Window\n",
    "from pyspark.sql import functions as F\n",
    "\n",
    "# Definimos las ventanas para los diferentes grupos\n",
    "ventana_vehiculo_anio = Window.partitionBy(\"Year\", \"Vehicle_Category\")\n",
    "ventana_vehiculo_causa_anio = Window.partitionBy(\"Year\", \"Vehicle_Category\", \"Junction_Location\")\n",
    "\n",
    "# Calculamos los totales de accidentes por año y categoría de vehículo\n",
    "accidentes_info_agregadaDF = accidentesDF.withColumn(\"total_vehiculo_anio\",\n",
    "                                                     F.count(\"Accident_Index\").over(ventana_vehiculo_anio))\n",
    "\n",
    "# Calculamos los totales de accidentes por año, categoría de vehículo y situación\n",
    "accidentes_info_agregadaDF = accidentes_info_agregadaDF.withColumn(\"total_vehiculo_causa_anio\",\n",
    "                                                                   F.count(\"Accident_Index\").over(ventana_vehiculo_causa_anio))\n",
    "\n",
    "# Calculamos el porcentaje de accidentes con misma situación sobre total de accidentes con misma categoría y año\n",
    "accidentes_info_agregadaDF = accidentes_info_agregadaDF.withColumn(\"porc_vehiculo_causa_anio\",\n",
    "                                                                   F.col(\"total_vehiculo_causa_anio\") / F.col(\"total_vehiculo_anio\"))\n",
    "\n",
    "# Calculamos la edad promedio de los accidentados por año y categoría de vehículo\n",
    "accidentes_info_agregadaDF = accidentes_info_agregadaDF.withColumn(\"media_edad_vehiculo_anio\",\n",
    "                                                                   F.avg(\"Age_of_Driver\").over(ventana_vehiculo_anio))\n",
    "\n",
    "# Calculamos la edad promedio de los accidentados por año, categoría de vehículo y situación\n",
    "accidentes_info_agregadaDF = accidentes_info_agregadaDF.withColumn(\"media_edad_vehiculo_causa_anio\",\n",
    "                                                                   F.avg(\"Age_of_Driver\").over(ventana_vehiculo_causa_anio))\n",
    "\n",
    "# Calculamos la desviación estándar de la edad de los accidentados por año, categoría de vehículo y situación\n",
    "accidentes_info_agregadaDF = accidentes_info_agregadaDF.withColumn(\"stddev_edad_vehiculo_causa_anio\",\n",
    "                                                                   F.stddev(\"Age_of_Driver\").over(ventana_vehiculo_causa_anio))\n",
    "\n",
    "# Guardamos el DataFrame resultante\n",
    "accidentes_info_agregadaDF.cache()\n"
   ]
  },
  {
   "cell_type": "code",
   "execution_count": 31,
   "metadata": {
    "deletable": false,
    "editable": false,
    "nbgrader": {
     "cell_type": "code",
     "checksum": "b6d6e3947a2cac27e9cc0a6f16eddbb9",
     "grade": true,
     "grade_id": "windows_tests",
     "locked": true,
     "points": 3,
     "schema_version": 3,
     "solution": false,
     "task": false
    }
   },
   "outputs": [
    {
     "name": "stderr",
     "output_type": "stream",
     "text": [
      "                                                                                \r"
     ]
    }
   ],
   "source": [
    "r = accidentes_info_agregadaDF.select(F.mean(\"total_vehiculo_anio\").alias(\"total_vehiculo_anio\"),\n",
    "                                  F.mean(\"total_vehiculo_causa_anio\").alias(\"total_vehiculo_causa_anio\"),\n",
    "                                  F.mean(\"porc_vehiculo_causa_anio\").alias(\"porc_vehiculo_causa_anio\"),\n",
    "                                  F.mean(\"media_edad_vehiculo_causa_anio\").alias(\"media_edad_vehiculo_causa_anio\"),\n",
    "                                 ).first()\n",
    "assert(round(r.total_vehiculo_anio, 2) == 33843.98)\n",
    "assert(round(r.total_vehiculo_causa_anio, 2) == 8185.52)\n",
    "assert(round(r.porc_vehiculo_causa_anio, 2) == 0.25)\n",
    "assert(round(r.media_edad_vehiculo_causa_anio, 2) == 3.90)"
   ]
  },
  {
   "cell_type": "markdown",
   "metadata": {
    "deletable": false,
    "editable": false,
    "nbgrader": {
     "cell_type": "markdown",
     "checksum": "0e4076dfd2f060035bc93d59660edd10",
     "grade": false,
     "grade_id": "cell-fc88821f19453a51",
     "locked": true,
     "schema_version": 3,
     "solution": false,
     "task": false
    }
   },
   "source": [
    "**Ejercicio 3 (1 punto)** Queremos saber si el tipo de vehículo está relacionado con la hora del día a la que se tienen más accidentes, y si es diferente entre cada tipo de vehículo. Para ello, partiendo de nuevo de `accidentesDF` \n",
    "* Crear un nuevo DF con tantas filas como horas del día existen, y tantas columnas como categorías de vehículo más una (que será justamente la hora). En cada casilla, debe contener el número de accidentes ocurridos a esa hora del día con ese tipo de vehículo.\n",
    "* Ordenar el DF en base a la hora de menor a mayor.\n",
    "* Almacenar el DF resultante en la variable `accidentes_hora_vehiculo`."
   ]
  },
  {
   "cell_type": "code",
   "execution_count": 38,
   "metadata": {
    "deletable": false,
    "nbgrader": {
     "cell_type": "code",
     "checksum": "fe4b77eccb84199d2ee1209f64f95764",
     "grade": false,
     "grade_id": "accidentes_horas_edad",
     "locked": false,
     "schema_version": 3,
     "solution": true,
     "task": false
    }
   },
   "outputs": [
    {
     "name": "stdout",
     "output_type": "stream",
     "text": [
      "root\n",
      " |-- hora: integer (nullable = true)\n",
      " |-- Bus/minibus: long (nullable = true)\n",
      " |-- Car: long (nullable = true)\n",
      " |-- Motorcycle: long (nullable = true)\n",
      " |-- Other: long (nullable = true)\n",
      " |-- Taxi: long (nullable = true)\n",
      " |-- Van: long (nullable = true)\n",
      "\n",
      "+----+-----------+-----+----------+-----+----+----+\n",
      "|hora|Bus/minibus|  Car|Motorcycle|Other|Taxi| Van|\n",
      "+----+-----------+-----+----------+-----+----+----+\n",
      "|   0|         10| 2438|       232|    5| 322|  97|\n",
      "|   1|          8| 1743|       105|    6| 263|  78|\n",
      "|   2|          3| 1270|        76|    5| 248|  61|\n",
      "|   3|          5| 1122|        64|    4| 222|  64|\n",
      "|   4|          1|  884|        73|    6| 112|  62|\n",
      "|   5|          6| 1364|       216|    3|  82| 139|\n",
      "|   6|          1| 3319|       595|   15| 101| 418|\n",
      "|   7|         19| 8435|      1484|   21| 182| 972|\n",
      "|   8|         44|15192|      1896|   37| 309|1161|\n",
      "|   9|         27|10067|      1119|   39| 253| 906|\n",
      "|  10|         24| 9086|      1072|   41| 220| 814|\n",
      "|  11|         31|10387|      1288|   39| 219| 886|\n",
      "|  12|         24|12117|      1543|   50| 248| 932|\n",
      "|  13|         15|12485|      1630|   64| 256| 842|\n",
      "|  14|         38|12373|      1703|   49| 268| 895|\n",
      "|  15|         56|15690|      1860|   44| 389|1039|\n",
      "|  16|         53|17322|      2418|   52| 389|1233|\n",
      "|  17|         27|19961|      2751|   24| 373|1117|\n",
      "|  18|         17|15403|      2184|   21| 373| 631|\n",
      "|  19|         15|10886|      1527|   23| 321| 417|\n",
      "+----+-----------+-----+----------+-----+----+----+\n",
      "only showing top 20 rows\n",
      "\n"
     ]
    },
    {
     "name": "stderr",
     "output_type": "stream",
     "text": [
      "24/06/09 19:27:27 WARN CacheManager: Asked to cache already cached data.\n"
     ]
    }
   ],
   "source": [
    "# Creamos un DataFrame pivoteando los datos para obtener el número de accidentes por hora y tipo de vehículo\n",
    "accidentes_hora_vehiculo = accidentesDF.groupBy(\"hora\").pivot(\"Vehicle_Category\").count()\n",
    "\n",
    "# Ordenamos el DataFrame por la hora del día de menor a mayor\n",
    "accidentes_hora_vehiculo = accidentes_hora_vehiculo.orderBy(\"hora\")\n",
    "\n",
    "# Guardamos el DataFrame resultante\n",
    "accidentes_hora_vehiculo.cache()\n",
    "accidentes_hora_vehiculo.printSchema()\n",
    "accidentes_hora_vehiculo.show()"
   ]
  },
  {
   "cell_type": "code",
   "execution_count": 36,
   "metadata": {
    "deletable": false,
    "editable": false,
    "nbgrader": {
     "cell_type": "code",
     "checksum": "74d20d67561b86e9d03d5d6b1463a153",
     "grade": true,
     "grade_id": "accidentes_horas_edad_test",
     "locked": true,
     "points": 1,
     "schema_version": 3,
     "solution": false,
     "task": false
    }
   },
   "outputs": [
    {
     "ename": "AssertionError",
     "evalue": "",
     "output_type": "error",
     "traceback": [
      "\u001b[0;31m---------------------------------------------------------------------------\u001b[0m",
      "\u001b[0;31mAssertionError\u001b[0m                            Traceback (most recent call last)",
      "Cell \u001b[0;32mIn[36], line 2\u001b[0m\n\u001b[1;32m      1\u001b[0m acc \u001b[38;5;241m=\u001b[39m accidentes_hora_vehiculo\u001b[38;5;241m.\u001b[39mcollect()\n\u001b[0;32m----> 2\u001b[0m \u001b[38;5;28;01massert\u001b[39;00m(acc[\u001b[38;5;241m0\u001b[39m]\u001b[38;5;241m.\u001b[39mhora \u001b[38;5;241m==\u001b[39m \u001b[38;5;241m0\u001b[39m \u001b[38;5;129;01mand\u001b[39;00m acc[\u001b[38;5;241m0\u001b[39m]\u001b[38;5;241m.\u001b[39mTaxi \u001b[38;5;241m==\u001b[39m \u001b[38;5;241m324\u001b[39m)\n\u001b[1;32m      3\u001b[0m \u001b[38;5;28;01massert\u001b[39;00m(acc[\u001b[38;5;241m10\u001b[39m]\u001b[38;5;241m.\u001b[39mhora \u001b[38;5;241m==\u001b[39m \u001b[38;5;241m10\u001b[39m \u001b[38;5;129;01mand\u001b[39;00m acc[\u001b[38;5;241m10\u001b[39m]\u001b[38;5;241m.\u001b[39mOther \u001b[38;5;241m==\u001b[39m \u001b[38;5;241m41\u001b[39m)\n\u001b[1;32m      4\u001b[0m \u001b[38;5;28;01massert\u001b[39;00m(acc[\u001b[38;5;241m15\u001b[39m]\u001b[38;5;241m.\u001b[39mhora \u001b[38;5;241m==\u001b[39m \u001b[38;5;241m15\u001b[39m \u001b[38;5;129;01mand\u001b[39;00m acc[\u001b[38;5;241m15\u001b[39m]\u001b[38;5;241m.\u001b[39mMotorcycle \u001b[38;5;241m==\u001b[39m \u001b[38;5;241m1860\u001b[39m)\n",
      "\u001b[0;31mAssertionError\u001b[0m: "
     ]
    }
   ],
   "source": [
    "acc = accidentes_hora_vehiculo.collect()\n",
    "assert(acc[0].hora == 0 and acc[0].Taxi == 324)\n",
    "assert(acc[10].hora == 10 and acc[10].Other == 41)\n",
    "assert(acc[15].hora == 15 and acc[15].Motorcycle == 1860)\n",
    "assert(acc[19].hora == 19 and acc[19].Car == 10886)"
   ]
  },
  {
   "cell_type": "markdown",
   "metadata": {
    "deletable": false,
    "editable": false,
    "nbgrader": {
     "cell_type": "markdown",
     "checksum": "ac7cddd3b4a27d28c49547bbf66191ea",
     "grade": false,
     "grade_id": "cell-b7957df90f6199a3",
     "locked": true,
     "schema_version": 3,
     "solution": false,
     "task": false
    }
   },
   "source": [
    "**Ejercicio 4 (1 punto)** Partiendo de la variable `accidentes_hora_vehiculo` creada en el ejercicio anterior, crear un nuevo DF de **una sola fila** y tantas columnas como categorías de vehículos (es decir, 6). Debe contener, para cada columna, una *pareja del número de accidentes máximo que ocurre a lo largo del día, y la hora a la que se produjeron*. Para ello, en lugar de ir aplicando la función `F.max` a cada columna del DF anterior (dentro de una llamada a `select`), aplícala en cada momento lo que devuelve la función `F.struct(nombreColumna, \"hora\"`), es decir, `F.max(F.struct(nombreColumna, \"hora\"))`. De esta forma, estarás creando (al vuelo) un objeto columna de parejas, cuyo primer elemento de cada pareja es el número total de accidentes indicado en esa columna, y cuyo segundo elemento es la hora del día a la que se ha producido. La función `F.max` aplicada a una columna de tipo parejas tendrá en cuenta, por defecto, solamente el primer elemento de cada pareja para ordenar, así que escogerá la pareja que tiene un mayor número de accidentes ya que ese valor es el primer elemento de cada pareja, pero lo mostrará como pareja, con lo que veremos la hora del día a la que va aparejado ese número de accidentes.\n",
    "\n",
    "Cada columna de pares mostrada por F.max debe renombrarse exactamente con el nombre de la categoría de vehículo a la que corresponde esa pareja. \n",
    "\n",
    "El DF resultante debe quedar guardado en la variable `hora_max_accidentes_vehiculo_df`\n",
    "\n",
    "PISTA: la solución es simplemente una operación `select` que incluye dentro la creación de 6 columnas al vuelo haciendo 6 llamadas a la función `F.max(F.struct(..., \"hora\"))`, y haciendo `alias` sobre el objeto columna devuelto por cada una de estas llamadas, para que cada una de esas 6 columnas creadas al vuelo se llame igual que su categoría de vehículo."
   ]
  },
  {
   "cell_type": "code",
   "execution_count": 16,
   "metadata": {
    "deletable": false,
    "nbgrader": {
     "cell_type": "code",
     "checksum": "a1695635e6d3eaf0de79f854590ffe8f",
     "grade": false,
     "grade_id": "parejas",
     "locked": false,
     "schema_version": 3,
     "solution": true,
     "task": false
    }
   },
   "outputs": [
    {
     "name": "stdout",
     "output_type": "stream",
     "text": [
      "root\n",
      " |-- Bus/minibus: struct (nullable = true)\n",
      " |    |-- Bus/minibus: long (nullable = true)\n",
      " |    |-- hora: integer (nullable = true)\n",
      " |-- Car: struct (nullable = true)\n",
      " |    |-- Car: long (nullable = true)\n",
      " |    |-- hora: integer (nullable = true)\n",
      " |-- Motorcycle: struct (nullable = true)\n",
      " |    |-- Motorcycle: long (nullable = true)\n",
      " |    |-- hora: integer (nullable = true)\n",
      " |-- Other: struct (nullable = true)\n",
      " |    |-- Other: long (nullable = true)\n",
      " |    |-- hora: integer (nullable = true)\n",
      " |-- Taxi: struct (nullable = true)\n",
      " |    |-- Taxi: long (nullable = true)\n",
      " |    |-- hora: integer (nullable = true)\n",
      " |-- Van: struct (nullable = true)\n",
      " |    |-- Van: long (nullable = true)\n",
      " |    |-- hora: integer (nullable = true)\n",
      "\n"
     ]
    },
    {
     "name": "stderr",
     "output_type": "stream",
     "text": [
      "[Stage 105:============================>                           (8 + 8) / 16]\r"
     ]
    },
    {
     "name": "stdout",
     "output_type": "stream",
     "text": [
      "+-----------+-----------+----------+--------+---------+----------+\n",
      "|Bus/minibus|Car        |Motorcycle|Other   |Taxi     |Van       |\n",
      "+-----------+-----------+----------+--------+---------+----------+\n",
      "|{56, 15}   |{19961, 17}|{2751, 17}|{64, 13}|{389, 16}|{1233, 16}|\n",
      "+-----------+-----------+----------+--------+---------+----------+\n",
      "\n"
     ]
    },
    {
     "name": "stderr",
     "output_type": "stream",
     "text": [
      "                                                                                \r"
     ]
    }
   ],
   "source": [
    "from pyspark.sql import functions as F\n",
    "\n",
    "# Crear el nuevo DataFrame con una fila y tantas columnas como categorías de vehículos\n",
    "hora_max_accidentes_vehiculo_df = accidentes_hora_vehiculo.select(\n",
    "    [F.max(F.struct(F.col(col), F.col(\"hora\"))).alias(col) for col in accidentes_hora_vehiculo.columns if col != \"hora\"]\n",
    ")\n",
    "\n",
    "# Mostrar el esquema y el contenido del DataFrame resultante (opcional)\n",
    "hora_max_accidentes_vehiculo_df.printSchema()\n",
    "hora_max_accidentes_vehiculo_df.show(truncate=False)\n"
   ]
  },
  {
   "cell_type": "code",
   "execution_count": 17,
   "metadata": {
    "deletable": false,
    "editable": false,
    "nbgrader": {
     "cell_type": "code",
     "checksum": "12eac985a78396cbb431c28fb982cb5f",
     "grade": true,
     "grade_id": "parejas_test",
     "locked": true,
     "points": 1,
     "schema_version": 3,
     "solution": false,
     "task": false
    }
   },
   "outputs": [],
   "source": [
    "assert(len(hora_max_accidentes_vehiculo_df.columns) == 6)\n",
    "assert(sum([1 for c in [\"Bus/minibus\", \"Car\", \"Motorcycle\", \"Other\", \"Taxi\", \"Van\"]\n",
    "          if c in hora_max_accidentes_vehiculo_df.columns]) == 6)\n",
    "r2 = hora_max_accidentes_vehiculo_df.first()\n",
    "assert(r2[\"Bus/minibus\"][0] == 56 and r2[\"Bus/minibus\"][1] == 15)\n",
    "assert(r2[\"Car\"][0] == 19961 and r2[\"Car\"][1] == 17)\n",
    "assert(r2[\"Motorcycle\"][0] == 2751 and r2[\"Motorcycle\"][1] == 17)\n",
    "assert(r2[\"Other\"][0] == 64 and r2[\"Other\"][1] == 13)\n",
    "assert(r2[\"Taxi\"][0] == 389 and r2[\"Taxi\"][1] == 16)\n",
    "assert(r2[\"Van\"][0] == 1233 and r2[\"Van\"][1] == 16)"
   ]
  },
  {
   "cell_type": "markdown",
   "metadata": {
    "deletable": false,
    "editable": false,
    "nbgrader": {
     "cell_type": "markdown",
     "checksum": "fafa36482bcec7ffb2e3cdcab5432e1d",
     "grade": false,
     "grade_id": "cell-a71a6b17b1e0d613",
     "locked": true,
     "schema_version": 3,
     "solution": false,
     "task": false
    }
   },
   "source": [
    "**Ejercicio 5 (2 puntos)** Vamos a preprocesar algunas variables para prepararlas para un posible algoritmo predictivo. Partiendo de `accidentesDF` se pide:\n",
    "* Crear en la variable `journey_purpose_indexer` un StringIndexer para la variable \"Driver_Journey_Purpose\" y que cree una nueva columna de salida `purpose_indexed`. Debe ser capaz de lidiar con etiquetas nunca vistas a la hora de hacer la codificación de un nuevo dataset (que no se eliminen dichas filas ni tampoco salte un error).\n",
    "* Crear en la variable `cars_involved_binarizer` un Binarizer de la variable `Number_of_Vehicles` que tenga `threshold=2.5` puesto que en la mayoría de los accidentes están involucrados 1 o 2 coches. Queremos pasarla a una variable binaria donde el 0.0 represente justamente que ha habido 1 o 2 coches involucrados, y el 1.0 represente que ha habido 3 o más coches involucrados. El binarizador debe crear como salida una nueva columna llamada `number_vehicles_binarized`\n",
    "* Crear en la variable `vector_assembler` un VectorAssembler que colapse en una nueva columna de tipo vector las columnas `purpose_indexed`, `number_vehicles_binarized` y `Speed_limit`. La nueva columna debe llamarse `features`. \n",
    "* Crear en la variable `pipeline` un pipeline que contenga **exclusivamente** las tres etapas anteriores. **NO DEBE CONTENER NINGÚN ALGORITMO PREDICTIVO**.\n",
    "* \"Entrenar\" ese pipeline con el DF `accidentesDF` y guardar el resultado en la variable `pipeline_model`. **No debe hacerse ningún tipo de división de los datos en entrenamiento y test**. Aunque el método sea \"entrenar\", en realidad sólo estamos ajustando etapas de pre-procesamiento."
   ]
  },
  {
   "cell_type": "code",
   "execution_count": 18,
   "metadata": {
    "deletable": false,
    "nbgrader": {
     "cell_type": "code",
     "checksum": "a3a1d5b178979e3f47a9983bc8fa1565",
     "grade": false,
     "grade_id": "numero_categorias",
     "locked": false,
     "schema_version": 3,
     "solution": true,
     "task": false
    }
   },
   "outputs": [
    {
     "name": "stderr",
     "output_type": "stream",
     "text": [
      "                                                                                \r"
     ]
    }
   ],
   "source": [
    "from pyspark.ml import Pipeline\n",
    "from pyspark.ml.feature import StringIndexer, Binarizer, VectorAssembler\n",
    "\n",
    "# Crear el StringIndexer para la variable \"Driver_Journey_Purpose\"\n",
    "journey_purpose_indexer = StringIndexer(\n",
    "    inputCol=\"Driver_Journey_Purpose\",\n",
    "    outputCol=\"purpose_indexed\",\n",
    "    handleInvalid=\"keep\"  # Lidiar con etiquetas nunca vistas\n",
    ")\n",
    "\n",
    "# Crear el Binarizer para la variable \"Number_of_Vehicles\"\n",
    "cars_involved_binarizer = Binarizer(\n",
    "    inputCol=\"Number_of_Vehicles\",\n",
    "    outputCol=\"number_vehicles_binarized\",\n",
    "    threshold=2.5  # Umbral para convertir en variable binaria\n",
    ")\n",
    "\n",
    "# Crear el VectorAssembler para las columnas de características\n",
    "vector_assembler = VectorAssembler(\n",
    "    inputCols=[\"purpose_indexed\", \"number_vehicles_binarized\", \"Speed_limit\"],\n",
    "    outputCol=\"features\"\n",
    ")\n",
    "\n",
    "# Crear el pipeline con las tres etapas anteriores\n",
    "pipeline = Pipeline(stages=[\n",
    "    journey_purpose_indexer,\n",
    "    cars_involved_binarizer,\n",
    "    vector_assembler\n",
    "])\n",
    "\n",
    "# Ajustar el pipeline con el DataFrame accidentesDF\n",
    "pipeline_model = pipeline.fit(accidentesDF)\n"
   ]
  },
  {
   "cell_type": "code",
   "execution_count": 19,
   "metadata": {
    "deletable": false,
    "editable": false,
    "nbgrader": {
     "cell_type": "code",
     "checksum": "4ab721356e0aa5734558f0999cab364d",
     "grade": true,
     "grade_id": "numero_categorias_test",
     "locked": true,
     "points": 2,
     "schema_version": 3,
     "solution": false,
     "task": false
    }
   },
   "outputs": [],
   "source": [
    "from pyspark.ml.feature import StringIndexer, Binarizer, VectorAssembler\n",
    "from pyspark.ml import Pipeline, PipelineModel\n",
    "\n",
    "assert(isinstance(journey_purpose_indexer, StringIndexer))\n",
    "assert(journey_purpose_indexer.getInputCol() == \"Driver_Journey_Purpose\" and \n",
    "       journey_purpose_indexer.getOutputCol() == \"purpose_indexed\" and\n",
    "       journey_purpose_indexer.getHandleInvalid() == \"keep\")\n",
    "\n",
    "assert(isinstance(cars_involved_binarizer, Binarizer))\n",
    "assert(cars_involved_binarizer.getInputCol() == \"Number_of_Vehicles\" and \n",
    "       cars_involved_binarizer.getOutputCol() == \"number_vehicles_binarized\" and\n",
    "       cars_involved_binarizer.getThreshold() == 2.5)\n",
    "\n",
    "assert(isinstance(pipeline, Pipeline))\n",
    "assert(len(pipeline.getStages()) == 3)             # el pipeline debe tener solamente tres etapas\n",
    "assert(journey_purpose_indexer in pipeline.getStages() \n",
    "       and cars_involved_binarizer in pipeline.getStages() \n",
    "       and vector_assembler in pipeline.getStages())\n",
    "\n",
    "assert(isinstance(pipeline_model, PipelineModel))"
   ]
  },
  {
   "cell_type": "markdown",
   "metadata": {
    "deletable": false,
    "editable": false,
    "nbgrader": {
     "cell_type": "markdown",
     "checksum": "c20156c0fe97d2976dfa3b10f3693be7",
     "grade": false,
     "grade_id": "cell-27e00b5fb188db3a",
     "locked": true,
     "schema_version": 3,
     "solution": false,
     "task": false
    }
   },
   "source": [
    "**Ejercicio 6 (1.5 puntos)** Queremos ver cuál es la forma de transporte involucrada en más accidentes en cada región de Reino Unido. Para ello, partiendo de `accidentesDF` se pide:\n",
    "\n",
    "* Crear un DF con tantas filas como Regiones distintas existen y tantas columnas como categorías de vehículo más una (la de la región, que estará a la izquierda). En cada casilla debe calcularse una **tripleta** (columna de tipo estructura, que se crea con `F.struct(col1, col2, col3)`) formada por:\n",
    "  * Número de accidentes en esa región y tipo vehículo,\n",
    "  * Edad media del conductor redondeada a 2 cifras decimales, y\n",
    "  * Número medio de coches involucrados redondeado a 2 cifras decimales). \n",
    "* Ordenar el DF alfabéticamente de menor a mayor en base a la columna `\"Region\"`\n",
    "* Guardar el DF resultante en la variable `numero_edad_coches_df`.\n",
    "* Para visualizarlo mejor, y puesto que el tamaño del DF que hemos obtenido como resultado está acotado por el número de regiones distintas existentes y por el número de categorías de vehículos existentes, pasar dicho DF a un dataframe de Pandas en la variable `numero_edad_coches_pd` y mostrarlo por pantalla.\n",
    "\n",
    "PISTA: para construir la columna de tipo estructura dentro de la función `agg(...)` se puede utilizar `F.struct(F.funcionagregacion(...), F.funcionagregacion(...), F.funcionagregacion(...))`. \n",
    "\n",
    "PISTA: en vez de pasarle a la función `F.struct` directamente la columna resultante de la agregación, pásale en caso necesario `F.round(F.nombrefuncion(...), 2)` para que ya esté redondeada.\n",
    "\n",
    "En el resultado puedes observar fenómenos como por ejemplo: \n",
    "* Los conductores de autobús son los que en promedio tienen siempre más edad, mientras que los de moto son los más jóvenes, como era de esperar. \n",
    "* Los accidentes de moto son los que menos coches involucran en promedio, en torno a 1.80, lo que quiere decir que hay muchos accidentes que los tiene el propio conductor sin que intervenga otro vehículo (condiciones atmosféricas, etc). Los de Taxi parecen estar bastante por debajo que los accidentes de coche, lo que indica que, mientras que un accidente de coche con frecuencia implica la interacción con otro vehículo, en los taxis hay aún bastantes accidentes donde no necesariamente hay otro vehículo implicado y por eso el promedio todavía no se acerca tanto a 2.\n",
    "* Es llamativo que en Gales haya unos promedios tan bajos en el número de vehículos involucrados en todas las categorías, en especial en los accidentes de coche y moto, lo que indica que muchos accidentes se producen sin causa de otro vehículo. Puede tener relación directa con que la edad media de los conductores es bastante superior a la de otros medios, y por eso son propensos a tener un accidente por mala conducción o relacionado con las facultades físicas o cognitivas del conductor."
   ]
  },
  {
   "cell_type": "code",
   "execution_count": 24,
   "metadata": {
    "deletable": false,
    "nbgrader": {
     "cell_type": "code",
     "checksum": "390b166c02a0c1d81753a9ac3a404fc8",
     "grade": false,
     "grade_id": "tripletas",
     "locked": false,
     "schema_version": 3,
     "solution": true,
     "task": false
    }
   },
   "outputs": [
    {
     "data": {
      "text/html": [
       "<div>\n",
       "<style scoped>\n",
       "    .dataframe tbody tr th:only-of-type {\n",
       "        vertical-align: middle;\n",
       "    }\n",
       "\n",
       "    .dataframe tbody tr th {\n",
       "        vertical-align: top;\n",
       "    }\n",
       "\n",
       "    .dataframe thead th {\n",
       "        text-align: right;\n",
       "    }\n",
       "</style>\n",
       "<table border=\"1\" class=\"dataframe\">\n",
       "  <thead>\n",
       "    <tr style=\"text-align: right;\">\n",
       "      <th></th>\n",
       "      <th>Region</th>\n",
       "      <th>Bus/minibus</th>\n",
       "      <th>Car</th>\n",
       "      <th>Motorcycle</th>\n",
       "      <th>Other</th>\n",
       "      <th>Taxi</th>\n",
       "      <th>Van</th>\n",
       "    </tr>\n",
       "  </thead>\n",
       "  <tbody>\n",
       "    <tr>\n",
       "      <th>0</th>\n",
       "      <td>East England</td>\n",
       "      <td>(44, 4.34, 1.77)</td>\n",
       "      <td>(22813, 3.95, 2.0)</td>\n",
       "      <td>(2753, 3.17, 1.8)</td>\n",
       "      <td>(61, 4.02, 1.87)</td>\n",
       "      <td>(424, 4.43, 1.89)</td>\n",
       "      <td>(1470, 3.91, 2.12)</td>\n",
       "    </tr>\n",
       "    <tr>\n",
       "      <th>1</th>\n",
       "      <td>East Midlands</td>\n",
       "      <td>(39, 4.95, 1.85)</td>\n",
       "      <td>(17191, 3.91, 1.96)</td>\n",
       "      <td>(2084, 3.29, 1.79)</td>\n",
       "      <td>(48, 4.44, 1.92)</td>\n",
       "      <td>(362, 4.36, 1.83)</td>\n",
       "      <td>(1117, 3.98, 2.06)</td>\n",
       "    </tr>\n",
       "    <tr>\n",
       "      <th>2</th>\n",
       "      <td>London</td>\n",
       "      <td>(28, 4.71, 1.75)</td>\n",
       "      <td>(24015, 3.9, 1.92)</td>\n",
       "      <td>(5658, 3.22, 1.82)</td>\n",
       "      <td>(56, 3.89, 1.84)</td>\n",
       "      <td>(1671, 4.63, 1.79)</td>\n",
       "      <td>(2212, 3.88, 1.91)</td>\n",
       "    </tr>\n",
       "    <tr>\n",
       "      <th>3</th>\n",
       "      <td>North East England</td>\n",
       "      <td>(52, 4.46, 1.85)</td>\n",
       "      <td>(9272, 3.96, 1.96)</td>\n",
       "      <td>(742, 3.46, 1.79)</td>\n",
       "      <td>(32, 3.81, 2.06)</td>\n",
       "      <td>(279, 4.12, 1.67)</td>\n",
       "      <td>(639, 3.95, 2.0)</td>\n",
       "    </tr>\n",
       "    <tr>\n",
       "      <th>4</th>\n",
       "      <td>North West England</td>\n",
       "      <td>(66, 4.7, 1.88)</td>\n",
       "      <td>(25783, 4.01, 1.97)</td>\n",
       "      <td>(2724, 3.29, 1.82)</td>\n",
       "      <td>(66, 4.47, 1.98)</td>\n",
       "      <td>(1070, 4.33, 1.75)</td>\n",
       "      <td>(1387, 3.91, 2.01)</td>\n",
       "    </tr>\n",
       "    <tr>\n",
       "      <th>5</th>\n",
       "      <td>Scotland</td>\n",
       "      <td>(2, 4.0, 1.5)</td>\n",
       "      <td>(198, 4.24, 1.45)</td>\n",
       "      <td>(65, 4.77, 1.25)</td>\n",
       "      <td>(2, 7.0, 1.5)</td>\n",
       "      <td>(1, 5.0, 1.0)</td>\n",
       "      <td>(26, 4.0, 1.46)</td>\n",
       "    </tr>\n",
       "    <tr>\n",
       "      <th>6</th>\n",
       "      <td>South East England</td>\n",
       "      <td>(71, 4.96, 1.87)</td>\n",
       "      <td>(39410, 4.03, 2.02)</td>\n",
       "      <td>(5281, 3.28, 1.8)</td>\n",
       "      <td>(145, 3.81, 2.0)</td>\n",
       "      <td>(787, 4.42, 1.78)</td>\n",
       "      <td>(2548, 3.92, 2.1)</td>\n",
       "    </tr>\n",
       "    <tr>\n",
       "      <th>7</th>\n",
       "      <td>South West England</td>\n",
       "      <td>(37, 4.84, 1.81)</td>\n",
       "      <td>(21144, 4.11, 1.99)</td>\n",
       "      <td>(2802, 3.17, 1.88)</td>\n",
       "      <td>(67, 4.49, 2.0)</td>\n",
       "      <td>(317, 4.58, 1.74)</td>\n",
       "      <td>(1236, 3.97, 2.03)</td>\n",
       "    </tr>\n",
       "    <tr>\n",
       "      <th>8</th>\n",
       "      <td>Wales</td>\n",
       "      <td>(1, 5.0, 2.0)</td>\n",
       "      <td>(282, 4.23, 1.73)</td>\n",
       "      <td>(79, 4.35, 1.51)</td>\n",
       "      <td>(2, 2.5, 1.5)</td>\n",
       "      <td>None</td>\n",
       "      <td>(29, 3.52, 1.83)</td>\n",
       "    </tr>\n",
       "    <tr>\n",
       "      <th>9</th>\n",
       "      <td>Wast Midlands</td>\n",
       "      <td>(56, 4.7, 1.91)</td>\n",
       "      <td>(20933, 3.85, 1.97)</td>\n",
       "      <td>(2168, 3.16, 1.88)</td>\n",
       "      <td>(52, 3.96, 1.92)</td>\n",
       "      <td>(607, 4.14, 1.79)</td>\n",
       "      <td>(1436, 3.91, 2.03)</td>\n",
       "    </tr>\n",
       "    <tr>\n",
       "      <th>10</th>\n",
       "      <td>Yorkshire and the Humber</td>\n",
       "      <td>(75, 4.67, 1.69)</td>\n",
       "      <td>(23049, 3.93, 1.96)</td>\n",
       "      <td>(2537, 3.27, 1.82)</td>\n",
       "      <td>(75, 3.92, 1.99)</td>\n",
       "      <td>(742, 4.15, 1.75)</td>\n",
       "      <td>(1412, 3.92, 2.02)</td>\n",
       "    </tr>\n",
       "  </tbody>\n",
       "</table>\n",
       "</div>"
      ],
      "text/plain": [
       "                      Region       Bus/minibus                  Car  \\\n",
       "0               East England  (44, 4.34, 1.77)   (22813, 3.95, 2.0)   \n",
       "1              East Midlands  (39, 4.95, 1.85)  (17191, 3.91, 1.96)   \n",
       "2                     London  (28, 4.71, 1.75)   (24015, 3.9, 1.92)   \n",
       "3         North East England  (52, 4.46, 1.85)   (9272, 3.96, 1.96)   \n",
       "4         North West England   (66, 4.7, 1.88)  (25783, 4.01, 1.97)   \n",
       "5                   Scotland     (2, 4.0, 1.5)    (198, 4.24, 1.45)   \n",
       "6         South East England  (71, 4.96, 1.87)  (39410, 4.03, 2.02)   \n",
       "7         South West England  (37, 4.84, 1.81)  (21144, 4.11, 1.99)   \n",
       "8                      Wales     (1, 5.0, 2.0)    (282, 4.23, 1.73)   \n",
       "9              Wast Midlands   (56, 4.7, 1.91)  (20933, 3.85, 1.97)   \n",
       "10  Yorkshire and the Humber  (75, 4.67, 1.69)  (23049, 3.93, 1.96)   \n",
       "\n",
       "            Motorcycle             Other                Taxi  \\\n",
       "0    (2753, 3.17, 1.8)  (61, 4.02, 1.87)   (424, 4.43, 1.89)   \n",
       "1   (2084, 3.29, 1.79)  (48, 4.44, 1.92)   (362, 4.36, 1.83)   \n",
       "2   (5658, 3.22, 1.82)  (56, 3.89, 1.84)  (1671, 4.63, 1.79)   \n",
       "3    (742, 3.46, 1.79)  (32, 3.81, 2.06)   (279, 4.12, 1.67)   \n",
       "4   (2724, 3.29, 1.82)  (66, 4.47, 1.98)  (1070, 4.33, 1.75)   \n",
       "5     (65, 4.77, 1.25)     (2, 7.0, 1.5)       (1, 5.0, 1.0)   \n",
       "6    (5281, 3.28, 1.8)  (145, 3.81, 2.0)   (787, 4.42, 1.78)   \n",
       "7   (2802, 3.17, 1.88)   (67, 4.49, 2.0)   (317, 4.58, 1.74)   \n",
       "8     (79, 4.35, 1.51)     (2, 2.5, 1.5)                None   \n",
       "9   (2168, 3.16, 1.88)  (52, 3.96, 1.92)   (607, 4.14, 1.79)   \n",
       "10  (2537, 3.27, 1.82)  (75, 3.92, 1.99)   (742, 4.15, 1.75)   \n",
       "\n",
       "                   Van  \n",
       "0   (1470, 3.91, 2.12)  \n",
       "1   (1117, 3.98, 2.06)  \n",
       "2   (2212, 3.88, 1.91)  \n",
       "3     (639, 3.95, 2.0)  \n",
       "4   (1387, 3.91, 2.01)  \n",
       "5      (26, 4.0, 1.46)  \n",
       "6    (2548, 3.92, 2.1)  \n",
       "7   (1236, 3.97, 2.03)  \n",
       "8     (29, 3.52, 1.83)  \n",
       "9   (1436, 3.91, 2.03)  \n",
       "10  (1412, 3.92, 2.02)  "
      ]
     },
     "execution_count": 24,
     "metadata": {},
     "output_type": "execute_result"
    }
   ],
   "source": [
    "from pyspark.sql import functions as F\n",
    "\n",
    "# Agrupar por Región y Vehicle_Category, y calcular las tripletas\n",
    "agg_df = accidentesDF.groupBy(\"Region\", \"Vehicle_Category\").agg(\n",
    "    F.count(\"*\").alias(\"num_accidentes\"),\n",
    "    F.round(F.avg(\"Age_of_Driver\"), 2).alias(\"edad_media\"),\n",
    "    F.round(F.avg(\"Number_of_Vehicles\"), 2).alias(\"num_vehiculos_medio\")\n",
    ")\n",
    "\n",
    "# Pivotar el DataFrame para tener una columna por cada tipo de vehículo\n",
    "pivot_df = agg_df.groupBy(\"Region\").pivot(\"Vehicle_Category\").agg(\n",
    "    F.first(F.struct(\"num_accidentes\", \"edad_media\", \"num_vehiculos_medio\")).alias(\"tripleta\")\n",
    ")\n",
    "\n",
    "# Ordenar el DataFrame alfabéticamente por la columna \"Region\"\n",
    "numero_edad_coches_df = pivot_df.orderBy(\"Region\")\n",
    "\n",
    "# Convertir el DataFrame a Pandas para visualizarlo mejor\n",
    "numero_edad_coches_pd = numero_edad_coches_df.toPandas()\n",
    "\n",
    "# Mostrar el DataFrame de Pandas\n",
    "numero_edad_coches_pd\n"
   ]
  },
  {
   "cell_type": "code",
   "execution_count": 25,
   "metadata": {
    "deletable": false,
    "editable": false,
    "nbgrader": {
     "cell_type": "code",
     "checksum": "a55def89481fb11a028a5f098d25f383",
     "grade": true,
     "grade_id": "tripletas_test",
     "locked": true,
     "points": 1.5,
     "schema_version": 3,
     "solution": false,
     "task": false
    }
   },
   "outputs": [],
   "source": [
    "assert(len(numero_edad_coches_df.columns) == 7)\n",
    "assert(sum([1 for c in [\"Region\", \"Bus/minibus\", \"Car\", \"Motorcycle\", \"Other\", \"Taxi\", \"Van\"]\n",
    "          if c in numero_edad_coches_df.columns]) == 7)\n",
    "r = numero_edad_coches_df.collect()\n",
    "assert(r[0].Region == \"East England\" and r[0].Other == (61, 4.02, 1.87))\n",
    "assert(len(numero_edad_coches_df.columns) == 7 and len(r) == 11)\n",
    "assert(r[0].Car == (22813, 3.95, 2.0))\n",
    "assert(r[7].Motorcycle == (2802, 3.17, 1.88))\n",
    "assert(r[10].Van == (1412, 3.92, 2.02))"
   ]
  }
 ],
 "metadata": {
  "kernelspec": {
   "display_name": "Python 3 (ipykernel)",
   "language": "python",
   "name": "python3"
  },
  "language_info": {
   "codemirror_mode": {
    "name": "ipython",
    "version": 3
   },
   "file_extension": ".py",
   "mimetype": "text/x-python",
   "name": "python",
   "nbconvert_exporter": "python",
   "pygments_lexer": "ipython3",
   "version": "3.10.13"
  }
 },
 "nbformat": 4,
 "nbformat_minor": 4
}
